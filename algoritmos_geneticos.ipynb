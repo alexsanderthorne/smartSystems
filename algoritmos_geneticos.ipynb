{
  "cells": [
    {
      "cell_type": "markdown",
      "metadata": {
        "colab_type": "text",
        "id": "view-in-github"
      },
      "source": [
        "<a href=\"https://colab.research.google.com/github/alexsanderthorne/smartSystems/blob/main/Algoritmos_Gen%C3%A9ticos.ipynb\" target=\"_parent\"><img src=\"https://colab.research.google.com/assets/colab-badge.svg\" alt=\"Open In Colab\"/></a>"
      ]
    },
    {
      "cell_type": "code",
      "execution_count": 10,
      "metadata": {
        "id": "jfrPU5X4KODM"
      },
      "outputs": [],
      "source": [
        "from math import inf\n",
        "import random\n",
        "import numpy as np\n",
        "\n",
        "class Individuo:\n",
        "\n",
        "    def __init__(self, cidades, matriz_distancias):\n",
        "        self.cromossomo = np.array(random.sample(range(cidades), cidades), dtype=int)\n",
        "        self.matriz_distancias = matriz_distancias\n",
        "        self.aptidao = self.fitness()\n",
        "\n",
        "    def atualizar_cromossomo(self, novo_cromossomo):\n",
        "        self.cromossomo = np.array(novo_cromossomo, dtype=int)\n",
        "        self.aptidao = self.fitness()\n",
        "\n",
        "    def fitness(self):\n",
        "        custo = 0\n",
        "        for i in range(len(self.cromossomo) - 1):\n",
        "            cidade_atual = self.cromossomo[i]\n",
        "            proxima_cidade = self.cromossomo[i + 1]\n",
        "            custo += self.matriz_distancias[cidade_atual][proxima_cidade]\n",
        "        custo += self.matriz_distancias[self.cromossomo[-1]][self.cromossomo[0]]  # Fechando o ciclo\n",
        "        return custo"
      ]
    },
    {
      "cell_type": "code",
      "execution_count": 11,
      "metadata": {
        "colab": {
          "base_uri": "https://localhost:8080/",
          "height": 1000
        },
        "id": "BJg4PUIqLaP0",
        "outputId": "bac73205-7838-407b-d2c4-3ee438419ee2"
      },
      "outputs": [],
      "source": [
        "def ler_matriz_distancias(arquivo_tsp):\n",
        "    with open(arquivo_tsp, 'r') as file:\n",
        "        lines = file.readlines()\n",
        "    \n",
        "    # Modificando a leitura da matriz\n",
        "    matriz_distancias = [list(map(int, line.split()[1:])) for line in lines[6:]]\n",
        "    return np.array(matriz_distancias, dtype=int)\n",
        "\n",
        "def iniciar_populacao(cidades, tamanho_populacao, matriz_distancias):\n",
        "    return [Individuo(cidades, matriz_distancias) for _ in range(tamanho_populacao)]\n",
        "\n",
        "def crossover_ox(pai1, pai2):\n",
        "    ponto1 = random.randint(0, len(pai1.cromossomo) - 1)\n",
        "    ponto2 = random.randint(ponto1 + 1, len(pai1.cromossomo))\n",
        "\n",
        "    filho1 = [-1] * len(pai1.cromossomo)\n",
        "    filho2 = [-1] * len(pai1.cromossomo)\n",
        "\n",
        "    # Mantém a seção entre os pontos de corte dos pais nos filhos\n",
        "    filho1[ponto1:ponto2] = pai1.cromossomo[ponto1:ponto2]\n",
        "    filho2[ponto1:ponto2] = pai2.cromossomo[ponto1:ponto2]\n",
        "\n",
        "    # Preenche o restante dos filhos com os genes do outro pai\n",
        "    i = ponto2\n",
        "    j = ponto2\n",
        "    while -1 in filho1:\n",
        "        if pai2.cromossomo[j % len(pai2.cromossomo)] not in filho1:\n",
        "            filho1[i % len(pai1.cromossomo)] = pai2.cromossomo[j % len(pai2.cromossomo)]\n",
        "            i += 1\n",
        "        j += 1\n",
        "\n",
        "    i = ponto2\n",
        "    j = ponto2\n",
        "    while -1 in filho2:\n",
        "        if pai1.cromossomo[j % len(pai1.cromossomo)] not in filho2:\n",
        "            filho2[i % len(pai1.cromossomo)] = pai1.cromossomo[j % len(pai1.cromossomo)]\n",
        "            i += 1\n",
        "        j += 1\n",
        "\n",
        "    filho1_cromossomo = np.array(filho1)\n",
        "    filho2_cromossomo = np.array(filho2)\n",
        "\n",
        "    filho1 = Individuo(cidades, matriz_distancias)\n",
        "    filho2 = Individuo(cidades, matriz_distancias)\n",
        "\n",
        "    filho1.atualizar_cromossomo(filho1_cromossomo)\n",
        "    filho2.atualizar_cromossomo(filho2_cromossomo)\n",
        "\n",
        "    return filho1, filho2\n",
        "\n",
        "def mutacao_swap(individuo):\n",
        "    gene1 = random.randint(0, len(individuo.cromossomo) - 1)\n",
        "    gene2 = random.randint(0, len(individuo.cromossomo) - 1)\n",
        "    individuo.cromossomo[gene1], individuo.cromossomo[gene2] = individuo.cromossomo[gene2], individuo.cromossomo[gene1]\n",
        "    individuo.cromossomo = np.array(individuo.cromossomo)  # Adicione esta linha\n",
        "\n",
        "\n",
        "def melhor_individuo(populacao):\n",
        "    return min(populacao, key=lambda x: x.aptidao)"
      ]
    },
    {
      "cell_type": "code",
      "execution_count": null,
      "metadata": {
        "colab": {
          "base_uri": "https://localhost:8080/",
          "height": 1000
        },
        "id": "r3RemFCK61BB",
        "outputId": "8858e6ed-15fe-4ceb-8c40-2e27ba6e46b2"
      },
      "outputs": [],
      "source": [
        "def algoritmo_genetico(n_geracoes, tamanho_populacao, cidades, matriz_distancias, taxa_mutacao):\n",
        "    populacao = iniciar_populacao(cidades, tamanho_populacao, matriz_distancias)\n",
        "    melhor_de_todos = melhor_individuo(populacao)\n",
        "    solucoes_geracao = [melhor_de_todos.aptidao]\n",
        "\n",
        "    for contador_geracoes in range(n_geracoes):\n",
        "        nova_populacao = []\n",
        "\n",
        "        for n_pop in range(0, tamanho_populacao, 2):\n",
        "            indice_pai1 = selecao_torneio(populacao)\n",
        "            indice_pai2 = selecao_torneio(populacao)\n",
        "            filho1, filho2 = crossover_ox(populacao[indice_pai1], populacao[indice_pai2])\n",
        "\n",
        "            mutacao_swap(filho1) if random.random() < taxa_mutacao else None\n",
        "            mutacao_swap(filho2) if random.random() < taxa_mutacao else None\n",
        "\n",
        "            nova_populacao.append(Individuo(cidades, matriz_distancias, filho1))\n",
        "            nova_populacao.append(Individuo(cidades, matriz_distancias, filho2))\n",
        "\n",
        "        populacao = nova_populacao\n",
        "        melhor_ind_geracao = melhor_individuo(populacao)\n",
        "\n",
        "        if melhor_de_todos.aptidao > melhor_ind_geracao.aptidao:\n",
        "            melhor_de_todos = melhor_ind_geracao\n",
        "\n",
        "        solucoes_geracao.append(melhor_de_todos.aptidao)\n",
        "        print(f'[{contador_geracoes}]: {melhor_ind_geracao.cromossomo} = {melhor_ind_geracao.aptidao}')\n",
        "\n",
        "    return melhor_de_todos, solucoes_geracao\n",
        "\n",
        "def selecao_torneio(populacao):\n",
        "    torneio = random.sample(range(len(populacao)), 3)\n",
        "    return min(torneio, key=lambda x: populacao[x].aptidao)\n",
        "\n",
        "# Configurações\n",
        "arquivo_tsp = 'brazil58.tsp'\n",
        "cidades = 58\n",
        "tamanho_populacao = 100\n",
        "n_geracoes = 100\n",
        "taxa_mutacao = 0.1\n",
        "\n",
        "# Execução do algoritmo genético\n",
        "matriz_distancias = ler_matriz_distancias(arquivo_tsp)\n",
        "melhor_sol, solucoes_gerais = algoritmo_genetico(n_geracoes, tamanho_populacao, cidades, matriz_distancias, taxa_mutacao)\n",
        "\n",
        "# Imprimir a melhor solução encontrada\n",
        "print(f'\\nMelhor solução: {melhor_sol.cromossomo} = {melhor_sol.aptidao}')"
      ]
    }
  ],
  "metadata": {
    "colab": {
      "include_colab_link": true,
      "name": "Algoritmos Genéticos.ipynb",
      "provenance": []
    },
    "interpreter": {
      "hash": "916dbcbb3f70747c44a77c7bcd40155683ae19c65e1c03b4aa3499c5328201f1"
    },
    "kernelspec": {
      "display_name": "Python 3.9.5 64-bit",
      "language": "python",
      "name": "python3"
    },
    "language_info": {
      "codemirror_mode": {
        "name": "ipython",
        "version": 3
      },
      "file_extension": ".py",
      "mimetype": "text/x-python",
      "name": "python",
      "nbconvert_exporter": "python",
      "pygments_lexer": "ipython3",
      "version": "3.12.0"
    }
  },
  "nbformat": 4,
  "nbformat_minor": 0
}
