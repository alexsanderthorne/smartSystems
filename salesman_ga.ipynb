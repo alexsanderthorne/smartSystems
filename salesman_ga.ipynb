{
  "cells": [
    {
      "cell_type": "markdown",
      "metadata": {
        "colab_type": "text",
        "id": "view-in-github"
      },
      "source": [
        "<a href=\"https://colab.research.google.com/github/alexsanderthorne/smartSystems/blob/main/salesman_ga.ipynb\" target=\"_parent\"><img src=\"https://colab.research.google.com/assets/colab-badge.svg\" alt=\"Open In Colab\"/></a>"
      ]
    },
    {
      "cell_type": "code",
      "execution_count": 1,
      "metadata": {
        "colab": {
          "base_uri": "https://localhost:8080/"
        },
        "id": "M1San9e6aai3",
        "outputId": "81786ed2-435a-406d-de32-6bedbf6a92c4"
      },
      "outputs": [],
      "source": [
        "#[1] Importando pacotes e módulos\n",
        "\n",
        "import random\n",
        "import numpy\n",
        "\n",
        "from deap import algorithms\n",
        "from deap import base\n",
        "from deap import creator\n",
        "from deap import tools"
      ]
    },
    {
      "cell_type": "code",
      "execution_count": 2,
      "metadata": {
        "colab": {
          "base_uri": "https://localhost:8080/"
        },
        "id": "G1o2VJlC-mMI",
        "outputId": "6b658f2c-1d8d-4095-cd4a-8792454eba85"
      },
      "outputs": [
        {
          "name": "stdout",
          "output_type": "stream",
          "text": [
            "Grafo:\n",
            " [[ 0 14 68 17 38 91 31 53]\n",
            " [14  0 43 42 98 23 98 43]\n",
            " [68 43  0 12 75 86 80 63]\n",
            " [17 42 12  0 38 19 72 38]\n",
            " [38 98 75 38  0 96 84 97]\n",
            " [91 23 86 19 96  0 97 64]\n",
            " [31 98 80 72 84 97  0 25]\n",
            " [53 43 63 38 97 64 25  0]]\n"
          ]
        }
      ],
      "source": [
        "#[2] Geração do grafo para o problema do caixeiro\n",
        "\n",
        "def graphTSP(numCities, minDist, maxDist):\n",
        "  cities = numpy.zeros((numCities, numCities), dtype = int)\n",
        "  for i in range(numCities):\n",
        "    for j in range(numCities):\n",
        "      if (j>i):\n",
        "        cities[i, j] = random.randint(minDist, maxDist)\n",
        "      elif (j<i):\n",
        "        cities[i, j] = cities[j, i]\n",
        "  return cities\n",
        "\n",
        "numCities = 5     #  Número de cidade inicial\n",
        "\n",
        "while(True):\n",
        "  numCities = int(input('Digite o número de cidades: '))\n",
        "  if (numCities > 4):\n",
        "    break\n",
        "  else:\n",
        "    print('O número de cidades deve ser maior que 4!')\n",
        "\n",
        "cities = graphTSP(numCities, 10, 100)\n",
        "print('Grafo:\\n', cities)"
      ]
    },
    {
      "cell_type": "code",
      "execution_count": 3,
      "metadata": {
        "id": "wfwLGOdnG-EJ"
      },
      "outputs": [],
      "source": [
        "#[3] Definição da Geração dos Indivíduos\n",
        "\n",
        "creator.create(\"FitnessMin\", base.Fitness, weights=(-1.0,)) # minimizar = peso negativo \n",
        "creator.create(\"Individual\", list, fitness=creator.FitnessMin)\n",
        "\n",
        "toolbox = base.Toolbox()\n",
        "# gerador de parâmetros \n",
        "toolbox.register(\"attr_int\", random.randint, 0, numCities-1)\n",
        "\n",
        "# define como os indivíduos/população é gerada\n",
        "toolbox.register(\"individual\", tools.initRepeat, creator.Individual, toolbox.attr_int, numCities)\n",
        "toolbox.register(\"population\", tools.initRepeat, list, toolbox.individual)"
      ]
    },
    {
      "cell_type": "code",
      "execution_count": 4,
      "metadata": {
        "id": "Xj10GoxwRGg4"
      },
      "outputs": [],
      "source": [
        "#[4] Função para a avaliação da aptidão\n",
        "\n",
        "#             * precisa ser uma tupla devido a exigências do pacote DEAP \n",
        "def evalRoute(individual):\n",
        "  cost = 0\n",
        "  for i in range(1, len(individual)):\n",
        "    if (individual.count(individual[i])>1):\n",
        "      cost = cost + 1000000 # penalidade por repetir cidade\n",
        "    cost = cost + cities[individual[i-1], individual[i]]        \n",
        "  cost = cost + cities[individual[i],individual[0]]\n",
        "  return (cost,)"
      ]
    },
    {
      "cell_type": "code",
      "execution_count": 5,
      "metadata": {
        "colab": {
          "base_uri": "https://localhost:8080/"
        },
        "id": "xVlSENgQUOUR",
        "outputId": "22869589-42f1-45fa-efa6-e0e5388662f2"
      },
      "outputs": [
        {
          "name": "stdout",
          "output_type": "stream",
          "text": [
            "Execução do algoritmo genético:\n",
            "gen\tnevals\tavg         \tstd               \tmin       \tmax       \n",
            "0  \t50    \t[4120411.44]\t[1394836.07108727]\t[1000387.]\t[7000529.]\n",
            "1  \t100   \t[2660416.44]\t[950977.42783141] \t[1000387.]\t[5000333.]\n",
            "2  \t100   \t[2120401.58]\t[790924.01082845] \t[1000333.]\t[4000414.]\n",
            "3  \t100   \t[1700404.66]\t[806176.66078989] \t[483.]    \t[3000513.]\n",
            "4  \t100   \t[1280443.36]\t[664456.20893963] \t[483.]    \t[3000432.]\n",
            "5  \t100   \t[900464.7]  \t[574424.92062508] \t[483.]    \t[3000208.]\n",
            "6  \t100   \t[520465.5]  \t[574078.95429766] \t[483.]    \t[2000334.]\n",
            "7  \t100   \t[180477.88] \t[384167.47116504] \t[483.]    \t[1000678.]\n",
            "8  \t100   \t[20484.6]   \t[139994.6290324]  \t[483.]    \t[1000447.]\n",
            "9  \t100   \t[483.]      \t[0.]              \t[483.]    \t[483.]    \n",
            "10 \t100   \t[483.]      \t[0.]              \t[483.]    \t[483.]    \n",
            "11 \t100   \t[483.]      \t[0.]              \t[483.]    \t[483.]    \n",
            "12 \t100   \t[483.]      \t[0.]              \t[483.]    \t[483.]    \n",
            "13 \t100   \t[483.]      \t[0.]              \t[483.]    \t[483.]    \n",
            "14 \t100   \t[483.]      \t[0.]              \t[483.]    \t[483.]    \n",
            "15 \t100   \t[483.]      \t[0.]              \t[483.]    \t[483.]    \n",
            "16 \t100   \t[483.]      \t[0.]              \t[483.]    \t[483.]    \n",
            "17 \t100   \t[483.]      \t[0.]              \t[483.]    \t[483.]    \n",
            "18 \t100   \t[483.]      \t[0.]              \t[483.]    \t[483.]    \n",
            "19 \t100   \t[483.]      \t[0.]              \t[483.]    \t[483.]    \n",
            "20 \t100   \t[483.]      \t[0.]              \t[483.]    \t[483.]    \n",
            "21 \t100   \t[483.]      \t[0.]              \t[483.]    \t[483.]    \n",
            "22 \t100   \t[483.]      \t[0.]              \t[483.]    \t[483.]    \n",
            "23 \t100   \t[483.]      \t[0.]              \t[483.]    \t[483.]    \n",
            "24 \t100   \t[483.]      \t[0.]              \t[483.]    \t[483.]    \n",
            "25 \t100   \t[483.]      \t[0.]              \t[483.]    \t[483.]    \n",
            "26 \t100   \t[483.]      \t[0.]              \t[483.]    \t[483.]    \n",
            "27 \t100   \t[483.]      \t[0.]              \t[483.]    \t[483.]    \n",
            "28 \t100   \t[483.]      \t[0.]              \t[483.]    \t[483.]    \n",
            "29 \t100   \t[483.]      \t[0.]              \t[483.]    \t[483.]    \n",
            "30 \t100   \t[483.]      \t[0.]              \t[483.]    \t[483.]    \n",
            "31 \t100   \t[483.]      \t[0.]              \t[483.]    \t[483.]    \n",
            "32 \t100   \t[483.]      \t[0.]              \t[483.]    \t[483.]    \n",
            "33 \t100   \t[483.]      \t[0.]              \t[483.]    \t[483.]    \n",
            "34 \t100   \t[483.]      \t[0.]              \t[483.]    \t[483.]    \n",
            "35 \t100   \t[483.]      \t[0.]              \t[483.]    \t[483.]    \n",
            "36 \t100   \t[483.]      \t[0.]              \t[483.]    \t[483.]    \n",
            "37 \t100   \t[483.]      \t[0.]              \t[483.]    \t[483.]    \n",
            "38 \t100   \t[483.]      \t[0.]              \t[483.]    \t[483.]    \n",
            "39 \t100   \t[483.]      \t[0.]              \t[483.]    \t[483.]    \n",
            "40 \t100   \t[483.]      \t[0.]              \t[483.]    \t[483.]    \n",
            "41 \t100   \t[483.]      \t[0.]              \t[483.]    \t[483.]    \n",
            "42 \t100   \t[483.]      \t[0.]              \t[483.]    \t[483.]    \n",
            "43 \t100   \t[483.]      \t[0.]              \t[483.]    \t[483.]    \n",
            "44 \t100   \t[483.]      \t[0.]              \t[483.]    \t[483.]    \n",
            "45 \t100   \t[483.]      \t[0.]              \t[483.]    \t[483.]    \n",
            "46 \t100   \t[483.]      \t[0.]              \t[483.]    \t[483.]    \n",
            "47 \t100   \t[483.]      \t[0.]              \t[483.]    \t[483.]    \n",
            "48 \t100   \t[483.]      \t[0.]              \t[483.]    \t[483.]    \n",
            "49 \t100   \t[483.]      \t[0.]              \t[483.]    \t[483.]    \n",
            "50 \t100   \t[483.]      \t[0.]              \t[483.]    \t[483.]    \n",
            "51 \t100   \t[483.]      \t[0.]              \t[483.]    \t[483.]    \n",
            "52 \t100   \t[483.]      \t[0.]              \t[483.]    \t[483.]    \n",
            "53 \t100   \t[483.]      \t[0.]              \t[483.]    \t[483.]    \n",
            "54 \t100   \t[483.]      \t[0.]              \t[483.]    \t[483.]    \n",
            "55 \t100   \t[483.]      \t[0.]              \t[483.]    \t[483.]    \n",
            "56 \t100   \t[483.]      \t[0.]              \t[483.]    \t[483.]    \n",
            "57 \t100   \t[483.]      \t[0.]              \t[483.]    \t[483.]    \n",
            "58 \t100   \t[483.]      \t[0.]              \t[483.]    \t[483.]    \n",
            "59 \t100   \t[483.]      \t[0.]              \t[483.]    \t[483.]    \n",
            "60 \t100   \t[483.]      \t[0.]              \t[483.]    \t[483.]    \n",
            "61 \t100   \t[483.]      \t[0.]              \t[483.]    \t[483.]    \n",
            "62 \t100   \t[483.]      \t[0.]              \t[483.]    \t[483.]    \n",
            "63 \t100   \t[483.]      \t[0.]              \t[483.]    \t[483.]    \n",
            "64 \t100   \t[483.]      \t[0.]              \t[483.]    \t[483.]    \n",
            "65 \t100   \t[483.]      \t[0.]              \t[483.]    \t[483.]    \n",
            "66 \t100   \t[483.]      \t[0.]              \t[483.]    \t[483.]    \n",
            "67 \t100   \t[483.]      \t[0.]              \t[483.]    \t[483.]    \n",
            "68 \t100   \t[483.]      \t[0.]              \t[483.]    \t[483.]    \n",
            "69 \t100   \t[483.]      \t[0.]              \t[483.]    \t[483.]    \n",
            "70 \t100   \t[476.76]    \t[30.56963199]     \t[327.]    \t[483.]    \n",
            "71 \t100   \t[473.64]    \t[37.04794731]     \t[327.]    \t[483.]    \n",
            "72 \t100   \t[454.92]    \t[59.93324286]     \t[327.]    \t[483.]    \n",
            "73 \t100   \t[20433.78]  \t[140012.05015788] \t[327.]    \t[1000518.]\n",
            "74 \t100   \t[40421.16]  \t[279990.55868221] \t[327.]    \t[2000355.]\n",
            "75 \t100   \t[392.52]    \t[76.99512712]     \t[327.]    \t[483.]    \n",
            "76 \t100   \t[120345.96] \t[474983.04386195] \t[327.]    \t[2000439.]\n",
            "77 \t100   \t[40327.56]  \t[280003.92]       \t[327.]    \t[2000355.]\n",
            "78 \t100   \t[327.]      \t[0.]              \t[327.]    \t[327.]    \n",
            "79 \t100   \t[327.]      \t[0.]              \t[327.]    \t[327.]    \n",
            "80 \t100   \t[327.]      \t[0.]              \t[327.]    \t[327.]    \n",
            "81 \t100   \t[327.]      \t[0.]              \t[327.]    \t[327.]    \n",
            "82 \t100   \t[327.]      \t[0.]              \t[327.]    \t[327.]    \n",
            "83 \t100   \t[327.]      \t[0.]              \t[327.]    \t[327.]    \n",
            "84 \t100   \t[327.]      \t[0.]              \t[327.]    \t[327.]    \n",
            "85 \t100   \t[327.]      \t[0.]              \t[327.]    \t[327.]    \n",
            "86 \t100   \t[327.]      \t[0.]              \t[327.]    \t[327.]    \n",
            "87 \t100   \t[40327.96]  \t[280006.72]       \t[327.]    \t[2000375.]\n",
            "88 \t100   \t[327.]      \t[0.]              \t[327.]    \t[327.]    \n",
            "89 \t100   \t[327.]      \t[0.]              \t[327.]    \t[327.]    \n",
            "90 \t100   \t[327.]      \t[0.]              \t[327.]    \t[327.]    \n",
            "91 \t100   \t[327.]      \t[0.]              \t[327.]    \t[327.]    \n",
            "92 \t100   \t[327.]      \t[0.]              \t[327.]    \t[327.]    \n",
            "93 \t100   \t[327.]      \t[0.]              \t[327.]    \t[327.]    \n",
            "94 \t100   \t[327.]      \t[0.]              \t[327.]    \t[327.]    \n",
            "95 \t100   \t[327.]      \t[0.]              \t[327.]    \t[327.]    \n",
            "96 \t100   \t[327.]      \t[0.]              \t[327.]    \t[327.]    \n",
            "97 \t100   \t[327.]      \t[0.]              \t[327.]    \t[327.]    \n",
            "98 \t100   \t[327.]      \t[0.]              \t[327.]    \t[327.]    \n",
            "99 \t100   \t[327.]      \t[0.]              \t[327.]    \t[327.]    \n",
            "100\t100   \t[327.]      \t[0.]              \t[327.]    \t[327.]    \n",
            "\n",
            "Rota: [4, 0, 1, 7, 6, 2, 3, 5] \n",
            "Custo: 327\n"
          ]
        }
      ],
      "source": [
        "#[5] Processamento do Algoritmo Genético\n",
        "\n",
        "# Definindo avaliação de aptidão, seleção, cruzamento e mutação \n",
        "toolbox.register(\"evaluate\", evalRoute)\n",
        "toolbox.register(\"select\", tools.selTournament, tournsize=3) # seleção por torneio\n",
        "toolbox.register(\"mate\", tools.cxOnePoint) # um ponto de cruzamento\n",
        "toolbox.register(\"mutate\", tools.mutUniformInt, low=0, up=numCities-1, indpb=0.05)\n",
        "\n",
        "def main():\n",
        "  print('Execução do algoritmo genético:')\n",
        "\n",
        "  # random.seed(64)\n",
        "  NGEN = 100     # número de gerações\n",
        "  MU = 50        # tamanho da população\n",
        "  LAMBDA = 100   # número de filhos gerados\n",
        "  CXPB = 0.7     # probabilidade de cruzamento\n",
        "  MUTPB = 0.3    # probabilidade de mutação\n",
        "  \n",
        "  pop = toolbox.population(n=MU)\n",
        "  hof = tools.ParetoFront()\n",
        "  stats = tools.Statistics(lambda ind: ind.fitness.values)\n",
        "  stats.register(\"avg\", numpy.mean, axis=0)\n",
        "  stats.register(\"std\", numpy.std, axis=0)\n",
        "  stats.register(\"min\", numpy.min, axis=0)\n",
        "  stats.register(\"max\", numpy.max, axis=0)\n",
        "  \n",
        "  algorithms.eaMuPlusLambda(pop, toolbox, MU, LAMBDA, CXPB, MUTPB, NGEN, stats,\n",
        "                            halloffame=hof)\n",
        "      \n",
        "  print('\\nRota:', hof[0],'\\nCusto:', evalRoute(hof[0])[0])\n",
        "  return pop, stats, hof\n",
        "                 \n",
        "if __name__ == \"__main__\":\n",
        "    main()"
      ]
    }
  ],
  "metadata": {
    "colab": {
      "collapsed_sections": [],
      "include_colab_link": true,
      "name": "salesman_ga.ipynb",
      "provenance": []
    },
    "interpreter": {
      "hash": "916dbcbb3f70747c44a77c7bcd40155683ae19c65e1c03b4aa3499c5328201f1"
    },
    "kernelspec": {
      "display_name": "Python 3.9.5 64-bit",
      "language": "python",
      "name": "python3"
    },
    "language_info": {
      "codemirror_mode": {
        "name": "ipython",
        "version": 3
      },
      "file_extension": ".py",
      "mimetype": "text/x-python",
      "name": "python",
      "nbconvert_exporter": "python",
      "pygments_lexer": "ipython3",
      "version": "3.9.5"
    }
  },
  "nbformat": 4,
  "nbformat_minor": 0
}
