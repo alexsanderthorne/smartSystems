{
  "cells": [
    {
      "cell_type": "markdown",
      "metadata": {
        "colab_type": "text",
        "id": "view-in-github"
      },
      "source": [
        "<a href=\"https://colab.research.google.com/github/alexsanderthorne/smartSystems/blob/main/Busca_Gulosa.ipynb\" target=\"_parent\"><img src=\"https://colab.research.google.com/assets/colab-badge.svg\" alt=\"Open In Colab\"/></a>"
      ]
    },
    {
      "cell_type": "markdown",
      "metadata": {
        "id": "x7rP-lKkqE_k"
      },
      "source": []
    },
    {
      "cell_type": "code",
      "execution_count": 1,
      "metadata": {
        "id": "GzjFtrZxw2P2"
      },
      "outputs": [],
      "source": [
        "class Vertice:\n",
        "  def __init__(self, rotulo, distancia_objetivo):\n",
        "    self.rotulo = rotulo\n",
        "    self.visitado = False\n",
        "    self.distancia_objetivo = distancia_objetivo\n",
        "    self.adjacentes = []\n",
        "\n",
        "  def adiciona_adjacente(self,adjacente):\n",
        "    self.adjacentes.append(adjacente)\n",
        "  \n",
        "  def imprime_adjacentes(self):\n",
        "    print(f'{self.rotulo}')\n",
        "    if len(self.adjacentes) == 0:\n",
        "      print('Não há adjacentes')\n",
        "    else:\n",
        "      for adj in self.adjacentes:\n",
        "        print(f'{adj.vertice.rotulo} - {adj.custo} - {adj.vertice.distancia_objetivo}')\n",
        "\n",
        "  def melhor_adjacente(self):\n",
        "    if len(self.adjacentes) == 0:\n",
        "      return\n",
        "    else:\n",
        "      melhor = self.adjacentes[0]\n",
        "      for adj in self.adjacentes:\n",
        "        if adj.vertice.distancia_objetivo < melhor.vertice.distancia_objetivo:\n",
        "          melhor = adj\n",
        "      return melhor.vertice\n",
        "\n",
        "\n",
        "class Adjacente:\n",
        "  def __init__(self, vertice, custo):\n",
        "    self.vertice = vertice\n",
        "    self.custo = custo"
      ]
    },
    {
      "cell_type": "code",
      "execution_count": 2,
      "metadata": {
        "id": "nnsVsOrHxiQt"
      },
      "outputs": [],
      "source": [
        "class Grafo:\n",
        "  arad = Vertice('Arad', 366)\n",
        "  zerind = Vertice('Zerind', 374)\n",
        "  oradea = Vertice('Oradea', 380)\n",
        "  sibiu = Vertice('Sibiu', 253)\n",
        "  timisoara = Vertice('Timisoara', 329)\n",
        "  lugoj = Vertice('Lugoj', 244)\n",
        "  mehadia = Vertice('Mehadia', 241)\n",
        "  dobreta = Vertice('Dobreta', 242)\n",
        "  craiova = Vertice('Craiova', 160)\n",
        "  rimnicu = Vertice('Rimnicu', 193)\n",
        "  fagaras = Vertice('Fagaras', 178)\n",
        "  pitesti = Vertice('Pitesti', 98)\n",
        "  bucharest = Vertice('Bucharest', 0)\n",
        "  giurgiu = Vertice('Giurgiu', 77)\n",
        "\n",
        "  arad.adiciona_adjacente(Adjacente(zerind, 75))\n",
        "  arad.adiciona_adjacente(Adjacente(sibiu, 140))\n",
        "  arad.adiciona_adjacente(Adjacente(timisoara, 118))\n",
        "\n",
        "  zerind.adiciona_adjacente(Adjacente(arad, 75))\n",
        "  zerind.adiciona_adjacente(Adjacente(oradea, 71))\n",
        "\n",
        "  oradea.adiciona_adjacente(Adjacente(zerind, 71))\n",
        "  oradea.adiciona_adjacente(Adjacente(sibiu, 151))\n",
        "\n",
        "  sibiu.adiciona_adjacente(Adjacente(oradea, 151))\n",
        "  sibiu.adiciona_adjacente(Adjacente(arad, 140))\n",
        "  sibiu.adiciona_adjacente(Adjacente(fagaras, 99))\n",
        "  sibiu.adiciona_adjacente(Adjacente(rimnicu, 80))\n",
        "\n",
        "  timisoara.adiciona_adjacente(Adjacente(arad, 118))\n",
        "  timisoara.adiciona_adjacente(Adjacente(lugoj, 111))\n",
        "\n",
        "  lugoj.adiciona_adjacente(Adjacente(timisoara, 111))\n",
        "  lugoj.adiciona_adjacente(Adjacente(mehadia, 70))\n",
        "\n",
        "  mehadia.adiciona_adjacente(Adjacente(lugoj, 70))\n",
        "  mehadia.adiciona_adjacente(Adjacente(dobreta, 75))\n",
        "\n",
        "  dobreta.adiciona_adjacente(Adjacente(mehadia, 75))\n",
        "  dobreta.adiciona_adjacente(Adjacente(craiova, 120))\n",
        "\n",
        "  craiova.adiciona_adjacente(Adjacente(dobreta, 120))\n",
        "  craiova.adiciona_adjacente(Adjacente(pitesti, 138))\n",
        "  craiova.adiciona_adjacente(Adjacente(rimnicu, 146))\n",
        "\n",
        "  rimnicu.adiciona_adjacente(Adjacente(craiova, 146))\n",
        "  rimnicu.adiciona_adjacente(Adjacente(sibiu, 80))\n",
        "  rimnicu.adiciona_adjacente(Adjacente(pitesti, 97))\n",
        "\n",
        "  fagaras.adiciona_adjacente(Adjacente(sibiu, 99))\n",
        "  fagaras.adiciona_adjacente(Adjacente(bucharest, 211))\n",
        "\n",
        "  pitesti.adiciona_adjacente(Adjacente(rimnicu, 97))\n",
        "  pitesti.adiciona_adjacente(Adjacente(craiova, 138))\n",
        "  pitesti.adiciona_adjacente(Adjacente(bucharest, 101))\n",
        "\n",
        "  bucharest.adiciona_adjacente(Adjacente(fagaras, 211))\n",
        "  bucharest.adiciona_adjacente(Adjacente(pitesti, 101))\n",
        "  bucharest.adiciona_adjacente(Adjacente(giurgiu, 90))\n",
        "\n"
      ]
    },
    {
      "cell_type": "code",
      "execution_count": 3,
      "metadata": {
        "colab": {
          "base_uri": "https://localhost:8080/"
        },
        "id": "1PlUjjVhtDCx",
        "outputId": "fa60d41c-45c2-4ccf-993e-1ce62be194aa"
      },
      "outputs": [
        {
          "name": "stdout",
          "output_type": "stream",
          "text": [
            "Arad\n",
            "Zerind - 75 - 374\n",
            "Sibiu - 140 - 253\n",
            "Timisoara - 118 - 329\n"
          ]
        }
      ],
      "source": [
        "grafo = Grafo()\n",
        "\n",
        "grafo.arad.imprime_adjacentes()"
      ]
    },
    {
      "cell_type": "code",
      "execution_count": 4,
      "metadata": {
        "colab": {
          "base_uri": "https://localhost:8080/"
        },
        "id": "Pi2Q0YRjwaE4",
        "outputId": "e6710098-2cc0-4c07-ef68-a638017b9901"
      },
      "outputs": [
        {
          "name": "stdout",
          "output_type": "stream",
          "text": [
            "Sibiu - 253\n"
          ]
        }
      ],
      "source": [
        "melhorVerticeArad = grafo.arad.melhor_adjacente()\n",
        "print(f'{melhorVerticeArad.rotulo} - {melhorVerticeArad.distancia_objetivo}')"
      ]
    },
    {
      "cell_type": "code",
      "execution_count": 5,
      "metadata": {
        "id": "Y024OHyHyzpA"
      },
      "outputs": [],
      "source": [
        "class BuscaGulosa:\n",
        "  def __init__(self, objetivo):\n",
        "    self.objetivo = objetivo\n",
        "    self.encontrado = False\n",
        "\n",
        "  def buscar(self, atual):\n",
        "    if atual == self.objetivo:\n",
        "      print(f'Chegamos ao destino em {atual.rotulo}')\n",
        "      self.encontrado = True\n",
        "      return\n",
        "\n",
        "    atual.imprime_adjacentes()\n",
        "    melhor_vertice = atual.melhor_adjacente()\n",
        "    print('--------')\n",
        "    self.buscar(melhor_vertice)"
      ]
    },
    {
      "cell_type": "code",
      "execution_count": 6,
      "metadata": {
        "colab": {
          "base_uri": "https://localhost:8080/"
        },
        "id": "2tufhXVk0zcN",
        "outputId": "fc0ee7a8-39d0-4e35-922b-a45eeb65b3c6"
      },
      "outputs": [
        {
          "name": "stdout",
          "output_type": "stream",
          "text": [
            "Arad\n",
            "Zerind - 75 - 374\n",
            "Sibiu - 140 - 253\n",
            "Timisoara - 118 - 329\n",
            "--------\n",
            "Sibiu\n",
            "Oradea - 151 - 380\n",
            "Arad - 140 - 366\n",
            "Fagaras - 99 - 178\n",
            "Rimnicu - 80 - 193\n",
            "--------\n",
            "Fagaras\n",
            "Sibiu - 99 - 253\n",
            "Bucharest - 211 - 0\n",
            "--------\n",
            "Chegamos ao destino em Bucharest\n"
          ]
        }
      ],
      "source": [
        "busca = BuscaGulosa(grafo.bucharest)\n",
        "busca.buscar(grafo.arad)"
      ]
    }
  ],
  "metadata": {
    "colab": {
      "include_colab_link": true,
      "name": "Busca Gulosa.ipynb",
      "provenance": []
    },
    "interpreter": {
      "hash": "916dbcbb3f70747c44a77c7bcd40155683ae19c65e1c03b4aa3499c5328201f1"
    },
    "kernelspec": {
      "display_name": "Python 3.9.5 64-bit",
      "language": "python",
      "name": "python3"
    },
    "language_info": {
      "codemirror_mode": {
        "name": "ipython",
        "version": 3
      },
      "file_extension": ".py",
      "mimetype": "text/x-python",
      "name": "python",
      "nbconvert_exporter": "python",
      "pygments_lexer": "ipython3",
      "version": "3.9.5"
    }
  },
  "nbformat": 4,
  "nbformat_minor": 0
}
